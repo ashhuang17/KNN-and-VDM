{
 "cells": [
  {
   "cell_type": "markdown",
   "metadata": {},
   "source": [
    "## <span style=color:darkblue> Assignment: K Nearest Neighbor and VDM </span>\n",
    "\n",
    "- Ashlea Pin Jui Huang - 989357938"
   ]
  },
  {
   "cell_type": "markdown",
   "metadata": {},
   "source": [
    "In this assignment, we will be applying KNN algorithm to a healthcare dataset. We will be using features pre-rx-cost, numofgen, numofbrand, generic-cost, adjust-total-30d, num-er, region and pdc-80-flag.\n"
   ]
  },
  {
   "cell_type": "code",
   "execution_count": 3,
   "metadata": {},
   "outputs": [
    {
     "name": "stdout",
     "output_type": "stream",
     "text": [
      "Requirement already satisfied: progressbar in ./anaconda3/lib/python3.7/site-packages (2.5)\n",
      "Note: you may need to restart the kernel to use updated packages.\n"
     ]
    }
   ],
   "source": [
    "pip install progressbar"
   ]
  },
  {
   "cell_type": "code",
   "execution_count": 21,
   "metadata": {},
   "outputs": [],
   "source": [
    "import pandas as pd\n",
    "import numpy as np\n",
    "import matplotlib.pyplot as plt\n",
    "from sklearn.neighbors import KNeighborsClassifier\n",
    "from sklearn.preprocessing import normalize\n",
    "import progressbar"
   ]
  },
  {
   "cell_type": "markdown",
   "metadata": {},
   "source": [
    "### Problem 1\n",
    "In this problem, we apply KNN to the healthcare data to predict adherent class (pdc-80-flag)."
   ]
  },
  {
   "cell_type": "code",
   "execution_count": 6,
   "metadata": {},
   "outputs": [],
   "source": [
    "def linear_normalized(argin):\n",
    "    \"\"\" linear normalization\n",
    "\n",
    "    arg (array): the array to be normalized\n",
    "\n",
    "    return (array): normalized array\n",
    "    \"\"\"\n",
    "    Max = max(argin)\n",
    "    Min = min(argin)\n",
    "    return np.array([(i - Min) / (Max - Min) for i in argin])"
   ]
  },
  {
   "cell_type": "code",
   "execution_count": 7,
   "metadata": {},
   "outputs": [],
   "source": [
    "# train data\n",
    "train = pd.read_csv('/Users/AshleaHuang/Desktop/healthcareTrain.csv')\n",
    "train_y = np.array(train.pdc_80_flag)\n",
    "train_X = np.array(train[['pre_rx_cost','numofgen','numofbrand','generic_cost','adjust_total_30d','num_er']].apply(linear_normalized, 0))\n",
    "\n",
    "# get train min max for each features to normalize test\n",
    "get_train_max_min = lambda argin: (max(argin), min(argin))\n",
    "train_max_min = [get_train_max_min(train[['pre_rx_cost','numofgen','numofbrand','generic_cost','adjust_total_30d','num_er']].iloc[:,i]) for i in range(6)]\n",
    "\n",
    "# test data\n",
    "test = pd.read_csv('/Users/AshleaHuang/Desktop/healthcareTest.csv')\n",
    "test_y = np.array(test.pdc_80_flag)\n",
    "test_X_raw = np.array(test[['pre_rx_cost','numofgen','numofbrand','generic_cost','adjust_total_30d','num_er']])\n",
    "\n",
    "# normalized test X\n",
    "test_X = np.array([[(i-train_max_min[j][1]) / (train_max_min[j][0] - train_max_min[j][1])\\\n",
    "                    for i in test_X_raw.transpose()[j]] for j in range(test_X_raw.shape[1])]).transpose()"
   ]
  },
  {
   "cell_type": "markdown",
   "metadata": {
    "scrolled": true
   },
   "source": [
    "#### Part 1\n",
    "\n",
    "Predict the pdc-80-flag using the following features ”pre-rx- cost”,”numofgen”,”numofbrand”,”generic-cost”,”adjust-total-30d”, and ”num- er”. Determine the accuracy rate for test set for k = 75 to 105 with a step\n",
    "size of 2 and report it in a table. Use linear normalization method to normalize the input features and Euclidean distance for distance measure. Note that you must use the training parameters for normalization of test points. You can use built-in knn function in R for this problem."
   ]
  },
  {
   "cell_type": "code",
   "execution_count": 8,
   "metadata": {},
   "outputs": [],
   "source": [
    "def knn_get_score(k):\n",
    "    \"\"\" KNN using the inputed train and test\n",
    "    arg (int): number of neighbors\n",
    "\n",
    "    return (float): accuracy\n",
    "    \"\"\"\n",
    "    model = KNeighborsClassifier(n_neighbors = k, p=2)\n",
    "    model.fit(train_X, train_y)\n",
    "    return model.score(test_X, test_y)"
   ]
  },
  {
   "cell_type": "code",
   "execution_count": 9,
   "metadata": {},
   "outputs": [],
   "source": [
    "# accuracy for k from 75 to 106\n",
    "accuracy = [knn_get_score(i) for i in range(75,106,2)]"
   ]
  },
  {
   "cell_type": "code",
   "execution_count": 10,
   "metadata": {},
   "outputs": [
    {
     "data": {
      "text/html": [
       "<div>\n",
       "<style scoped>\n",
       "    .dataframe tbody tr th:only-of-type {\n",
       "        vertical-align: middle;\n",
       "    }\n",
       "\n",
       "    .dataframe tbody tr th {\n",
       "        vertical-align: top;\n",
       "    }\n",
       "\n",
       "    .dataframe thead th {\n",
       "        text-align: right;\n",
       "    }\n",
       "</style>\n",
       "<table border=\"1\" class=\"dataframe\">\n",
       "  <thead>\n",
       "    <tr style=\"text-align: right;\">\n",
       "      <th></th>\n",
       "      <th>K</th>\n",
       "      <th>Accuracy</th>\n",
       "    </tr>\n",
       "  </thead>\n",
       "  <tbody>\n",
       "    <tr>\n",
       "      <th>0</th>\n",
       "      <td>75</td>\n",
       "      <td>0.668605</td>\n",
       "    </tr>\n",
       "    <tr>\n",
       "      <th>1</th>\n",
       "      <td>77</td>\n",
       "      <td>0.665698</td>\n",
       "    </tr>\n",
       "    <tr>\n",
       "      <th>2</th>\n",
       "      <td>79</td>\n",
       "      <td>0.668605</td>\n",
       "    </tr>\n",
       "    <tr>\n",
       "      <th>3</th>\n",
       "      <td>81</td>\n",
       "      <td>0.665698</td>\n",
       "    </tr>\n",
       "    <tr>\n",
       "      <th>4</th>\n",
       "      <td>83</td>\n",
       "      <td>0.662791</td>\n",
       "    </tr>\n",
       "    <tr>\n",
       "      <th>5</th>\n",
       "      <td>85</td>\n",
       "      <td>0.665698</td>\n",
       "    </tr>\n",
       "    <tr>\n",
       "      <th>6</th>\n",
       "      <td>87</td>\n",
       "      <td>0.665698</td>\n",
       "    </tr>\n",
       "    <tr>\n",
       "      <th>7</th>\n",
       "      <td>89</td>\n",
       "      <td>0.665698</td>\n",
       "    </tr>\n",
       "    <tr>\n",
       "      <th>8</th>\n",
       "      <td>91</td>\n",
       "      <td>0.665698</td>\n",
       "    </tr>\n",
       "    <tr>\n",
       "      <th>9</th>\n",
       "      <td>93</td>\n",
       "      <td>0.654070</td>\n",
       "    </tr>\n",
       "    <tr>\n",
       "      <th>10</th>\n",
       "      <td>95</td>\n",
       "      <td>0.659884</td>\n",
       "    </tr>\n",
       "    <tr>\n",
       "      <th>11</th>\n",
       "      <td>97</td>\n",
       "      <td>0.662791</td>\n",
       "    </tr>\n",
       "    <tr>\n",
       "      <th>12</th>\n",
       "      <td>99</td>\n",
       "      <td>0.668605</td>\n",
       "    </tr>\n",
       "    <tr>\n",
       "      <th>13</th>\n",
       "      <td>101</td>\n",
       "      <td>0.671512</td>\n",
       "    </tr>\n",
       "    <tr>\n",
       "      <th>14</th>\n",
       "      <td>103</td>\n",
       "      <td>0.677326</td>\n",
       "    </tr>\n",
       "    <tr>\n",
       "      <th>15</th>\n",
       "      <td>105</td>\n",
       "      <td>0.668605</td>\n",
       "    </tr>\n",
       "  </tbody>\n",
       "</table>\n",
       "</div>"
      ],
      "text/plain": [
       "      K  Accuracy\n",
       "0    75  0.668605\n",
       "1    77  0.665698\n",
       "2    79  0.668605\n",
       "3    81  0.665698\n",
       "4    83  0.662791\n",
       "5    85  0.665698\n",
       "6    87  0.665698\n",
       "7    89  0.665698\n",
       "8    91  0.665698\n",
       "9    93  0.654070\n",
       "10   95  0.659884\n",
       "11   97  0.662791\n",
       "12   99  0.668605\n",
       "13  101  0.671512\n",
       "14  103  0.677326\n",
       "15  105  0.668605"
      ]
     },
     "execution_count": 10,
     "metadata": {},
     "output_type": "execute_result"
    }
   ],
   "source": [
    "pd.DataFrame({'K':list(range(75,106,2)), 'Accuracy':accuracy})"
   ]
  },
  {
   "cell_type": "markdown",
   "metadata": {
    "scrolled": true
   },
   "source": [
    "#### Part 2\n",
    " Plot the accuracy rate vs. K. Which value of K gives you the best accuracy rate?"
   ]
  },
  {
   "cell_type": "code",
   "execution_count": 11,
   "metadata": {},
   "outputs": [
    {
     "data": {
      "image/png": "[encoded data removed]",
      "text/plain": [
       "<Figure size 720x360 with 1 Axes>"
      ]
     },
     "metadata": {
      "needs_background": "light"
     },
     "output_type": "display_data"
    }
   ],
   "source": [
    "plt.figure(figsize=(10,5))\n",
    "plt.plot(range(75,106,2), accuracy)\n",
    "plt.xlabel('k')\n",
    "plt.ylabel('accuracy')\n",
    "plt.xticks(range(75,106,2), rotation=90)\n",
    "plt.title('accuracy vs k')\n",
    "plt.grid()\n",
    "plt.show()"
   ]
  },
  {
   "cell_type": "code",
   "execution_count": 12,
   "metadata": {},
   "outputs": [
    {
     "name": "stdout",
     "output_type": "stream",
     "text": [
      "Best K: 103\n",
      "Best Accuracy: 0.6773255813953488\n"
     ]
    }
   ],
   "source": [
    "print('Best K:', list(range(75,106,2))[np.argmax(accuracy)])\n",
    "print('Best Accuracy:', max(accuracy))"
   ]
  },
  {
   "cell_type": "markdown",
   "metadata": {},
   "source": [
    "### Problem 2\n",
    "\n",
    "In this problem we’ll continue using the healthcare data from the previous problem. We’ll use the Value Distance Metric (VDM) to find the distance between symbolic feature values Northeast, Midwest, South, and West, and further use this information in KNN algorithm to predict pdc-80-flag."
   ]
  },
  {
   "cell_type": "markdown",
   "metadata": {
    "scrolled": true
   },
   "source": [
    "#### Part 1\n",
    "Find all the relevant conditional probabilities for finding VDM for symbolic variable region and report your results in a table."
   ]
  },
  {
   "cell_type": "code",
   "execution_count": 13,
   "metadata": {},
   "outputs": [
    {
     "data": {
      "text/html": [
       "<div>\n",
       "<style scoped>\n",
       "    .dataframe tbody tr th:only-of-type {\n",
       "        vertical-align: middle;\n",
       "    }\n",
       "\n",
       "    .dataframe tbody tr th {\n",
       "        vertical-align: top;\n",
       "    }\n",
       "\n",
       "    .dataframe thead th {\n",
       "        text-align: right;\n",
       "    }\n",
       "</style>\n",
       "<table border=\"1\" class=\"dataframe\">\n",
       "  <thead>\n",
       "    <tr style=\"text-align: right;\">\n",
       "      <th></th>\n",
       "      <th>Northeast</th>\n",
       "      <th>Midwest</th>\n",
       "      <th>South</th>\n",
       "      <th>West</th>\n",
       "    </tr>\n",
       "  </thead>\n",
       "  <tbody>\n",
       "    <tr>\n",
       "      <th>0</th>\n",
       "      <td>0.495495</td>\n",
       "      <td>0.568579</td>\n",
       "      <td>0.645995</td>\n",
       "      <td>0.576087</td>\n",
       "    </tr>\n",
       "    <tr>\n",
       "      <th>1</th>\n",
       "      <td>0.504505</td>\n",
       "      <td>0.431421</td>\n",
       "      <td>0.354005</td>\n",
       "      <td>0.423913</td>\n",
       "    </tr>\n",
       "  </tbody>\n",
       "</table>\n",
       "</div>"
      ],
      "text/plain": [
       "   Northeast   Midwest     South      West\n",
       "0   0.495495  0.568579  0.645995  0.576087\n",
       "1   0.504505  0.431421  0.354005  0.423913"
      ]
     },
     "execution_count": 13,
     "metadata": {},
     "output_type": "execute_result"
    }
   ],
   "source": [
    "region_class = train[['regionN','pdc_80_flag']]\n",
    "con_prop = [j/sum(j) for j in [np.unique(region_class[region_class.regionN == i].pdc_80_flag, return_counts=True)[1] for i in np.unique(region_class.regionN)]]\n",
    "\n",
    "pd.DataFrame(np.array(con_prop).transpose(), columns=['Northeast','Midwest','South','West'])"
   ]
  },
  {
   "cell_type": "markdown",
   "metadata": {
    "scrolled": true
   },
   "source": [
    "#### Part 2\n",
    "Use results in part 1 to find the distance between symbolic feature values Northeast, Midwest, South, and West using VDM equation. Report the distances in a table."
   ]
  },
  {
   "cell_type": "markdown",
   "metadata": {},
   "source": [
    "0 denotes as Northeast\n",
    "1 denotes as Midwest\n",
    "2 denotes as South\n",
    "3 denotes as West\n",
    "So, (0,1) denotes as the VDM distance between Northeast and Midwest."
   ]
  },
  {
   "cell_type": "code",
   "execution_count": 14,
   "metadata": {},
   "outputs": [],
   "source": [
    "region_comb = [(i,j) for j in range(1,4) for i in range(4) if i<j]\n",
    "vdm_distance = [((con_prop[i[0]] - con_prop[i[1]])**2).sum() for i in region_comb]"
   ]
  },
  {
   "cell_type": "code",
   "execution_count": 15,
   "metadata": {},
   "outputs": [
    {
     "data": {
      "text/html": [
       "<div>\n",
       "<style scoped>\n",
       "    .dataframe tbody tr th:only-of-type {\n",
       "        vertical-align: middle;\n",
       "    }\n",
       "\n",
       "    .dataframe tbody tr th {\n",
       "        vertical-align: top;\n",
       "    }\n",
       "\n",
       "    .dataframe thead th {\n",
       "        text-align: right;\n",
       "    }\n",
       "</style>\n",
       "<table border=\"1\" class=\"dataframe\">\n",
       "  <thead>\n",
       "    <tr style=\"text-align: right;\">\n",
       "      <th></th>\n",
       "      <th>Combination</th>\n",
       "      <th>VDM Distance</th>\n",
       "    </tr>\n",
       "  </thead>\n",
       "  <tbody>\n",
       "    <tr>\n",
       "      <th>0</th>\n",
       "      <td>(0, 1)</td>\n",
       "      <td>0.010682</td>\n",
       "    </tr>\n",
       "    <tr>\n",
       "      <th>1</th>\n",
       "      <td>(0, 2)</td>\n",
       "      <td>0.045300</td>\n",
       "    </tr>\n",
       "    <tr>\n",
       "      <th>2</th>\n",
       "      <td>(1, 2)</td>\n",
       "      <td>0.011987</td>\n",
       "    </tr>\n",
       "    <tr>\n",
       "      <th>3</th>\n",
       "      <td>(0, 3)</td>\n",
       "      <td>0.012990</td>\n",
       "    </tr>\n",
       "    <tr>\n",
       "      <th>4</th>\n",
       "      <td>(1, 3)</td>\n",
       "      <td>0.000113</td>\n",
       "    </tr>\n",
       "    <tr>\n",
       "      <th>5</th>\n",
       "      <td>(2, 3)</td>\n",
       "      <td>0.009774</td>\n",
       "    </tr>\n",
       "  </tbody>\n",
       "</table>\n",
       "</div>"
      ],
      "text/plain": [
       "  Combination  VDM Distance\n",
       "0      (0, 1)      0.010682\n",
       "1      (0, 2)      0.045300\n",
       "2      (1, 2)      0.011987\n",
       "3      (0, 3)      0.012990\n",
       "4      (1, 3)      0.000113\n",
       "5      (2, 3)      0.009774"
      ]
     },
     "execution_count": 15,
     "metadata": {},
     "output_type": "execute_result"
    }
   ],
   "source": [
    "pd.DataFrame({'Combination':region_comb, 'VDM Distance':vdm_distance})"
   ]
  },
  {
   "cell_type": "markdown",
   "metadata": {
    "scrolled": true
   },
   "source": [
    "#### Part 3\n",
    "Use this variable (region) in conjunction with the variables of problem 1 and regenerate your model, for k = 75 to 105 with a step size of 2. Report the mean accuracy rate. Compare this mean with mean accuracy rate from previous problem. Has it increased for decreased?"
   ]
  },
  {
   "cell_type": "code",
   "execution_count": 16,
   "metadata": {},
   "outputs": [],
   "source": [
    "train_region_class = region_class.regionN\n",
    "test_regioin_class = test.regionN"
   ]
  },
  {
   "cell_type": "code",
   "execution_count": 17,
   "metadata": {},
   "outputs": [],
   "source": [
    "# 1 test point to all train point's region combination\n",
    "def vdm_one_test_dist(te_vdm):\n",
    "    \"\"\" return dist using vdm from 1 test to all train\n",
    "    \"\"\"\n",
    "    te_vdm_to_all = [tuple(sorted((te_vdm-1, i-1))) for i in train_region_class]\n",
    "    te_vdm_to_all_dist = [vdm_distance[region_comb.index(i)] if i in region_comb else 0 for i in te_vdm_to_all]\n",
    "    return te_vdm_to_all_dist\n",
    "\n",
    "# 1 test point to all train point's the rest 6 features\n",
    "def one_test_dist(te):\n",
    "    \"\"\" return square different from 1 test to all train\n",
    "    \"\"\"\n",
    "    return np.array([i.sum() for i in ((te - train_X)**2)])\n",
    "\n",
    "# combine the above two functions and do KNN classification\n",
    "def knn_one_point(te_point, k):\n",
    "    \"\"\" knn for 1 test point\n",
    "\n",
    "    arg: te_point (int) - test point index, k (int) number of neighbors\n",
    "\n",
    "    return (int): class result\n",
    "    \"\"\"\n",
    "    value, counts = np.unique([train_y[i] for i in np.argsort(np.sqrt(one_test_dist(test_X[te_point]) + vdm_one_test_dist(test_regioin_class[te_point])))[:k]], return_counts=True)\n",
    "    return value[np.argmax(counts)]\n",
    "\n",
    "def knn_score(k):\n",
    "    progress = progressbar.ProgressBar()\n",
    "    return (np.array([knn_one_point(i, k) for i in progress(range(len(test_y)))]) == test_y).sum() / len(test_y)"
   ]
  },
  {
   "cell_type": "code",
   "execution_count": 18,
   "metadata": {},
   "outputs": [
    {
     "name": "stderr",
     "output_type": "stream",
     "text": [
      "100% |########################################################################|\n",
      "100% |########################################################################|\n",
      "100% |########################################################################|\n",
      "100% |########################################################################|\n",
      "100% |########################################################################|\n",
      "100% |########################################################################|\n",
      "100% |########################################################################|\n",
      "100% |########################################################################|\n",
      "100% |########################################################################|\n",
      "100% |########################################################################|\n",
      "100% |########################################################################|\n",
      "100% |########################################################################|\n",
      "100% |########################################################################|\n",
      "100% |########################################################################|\n",
      "100% |########################################################################|\n",
      "100% |########################################################################|\n",
      "100% |########################################################################|\n"
     ]
    }
   ],
   "source": [
    "progress = progressbar.ProgressBar()\n",
    "accuracy_rate = [knn_score(i) for i in progress(range(75,106,2))]"
   ]
  },
  {
   "cell_type": "code",
   "execution_count": 19,
   "metadata": {},
   "outputs": [
    {
     "name": "stdout",
     "output_type": "stream",
     "text": [
      "Mean Accuracy Rate: 0.645\n",
      "Mean Accuracy Rate (Problem 1): 0.666\n"
     ]
    }
   ],
   "source": [
    "print('Mean Accuracy Rate:', round(np.mean(accuracy_rate), 3))\n",
    "print('Mean Accuracy Rate (Problem 1):', round(np.mean(accuracy), 3))"
   ]
  },
  {
   "cell_type": "code",
   "execution_count": 20,
   "metadata": {},
   "outputs": [
    {
     "data": {
      "text/plain": [
       "[0.6598837209302325,\n",
       " 0.6482558139534884,\n",
       " 0.6482558139534884,\n",
       " 0.6511627906976745,\n",
       " 0.6482558139534884,\n",
       " 0.6511627906976745,\n",
       " 0.6337209302325582,\n",
       " 0.6453488372093024,\n",
       " 0.6453488372093024,\n",
       " 0.6482558139534884,\n",
       " 0.6395348837209303,\n",
       " 0.6366279069767442,\n",
       " 0.6337209302325582,\n",
       " 0.6308139534883721,\n",
       " 0.6424418604651163,\n",
       " 0.6540697674418605]"
      ]
     },
     "execution_count": 20,
     "metadata": {},
     "output_type": "execute_result"
    }
   ],
   "source": [
    "accuracy_rate"
   ]
  },
  {
   "cell_type": "markdown",
   "metadata": {},
   "source": [
    "#### Part 4\n",
    "Plot the accuracy rate vs. K. Which value of K gives you the best accuracy rate?"
   ]
  },
  {
   "cell_type": "code",
   "execution_count": 30,
   "metadata": {},
   "outputs": [
    {
     "data": {
      "image/png": "[encoded data removed]",
      "text/plain": [
       "<Figure size 720x360 with 1 Axes>"
      ]
     },
     "metadata": {
      "needs_background": "light"
     },
     "output_type": "display_data"
    }
   ],
   "source": [
    "# plot\n",
    "plt.figure(figsize=(10,5))\n",
    "plt.plot(range(75,106,2), accuracy_rate)\n",
    "plt.xlabel('k')\n",
    "plt.ylabel('accuracy')\n",
    "plt.xticks(range(75,106,2), rotation=90)\n",
    "plt.title('accuracy vs k')\n",
    "plt.grid()\n",
    "plt.show()"
   ]
  },
  {
   "cell_type": "code",
   "execution_count": 31,
   "metadata": {},
   "outputs": [
    {
     "name": "stdout",
     "output_type": "stream",
     "text": [
      "Best k: [75] \n",
      "accuracy: 0.6599\n"
     ]
    }
   ],
   "source": [
    "best_k_2 = np.array([i for i in range(len(accuracy_rate)) if accuracy_rate[i] == max(accuracy_rate)])\n",
    "print('Best k:', best_k_2+75, '\\naccuracy:', round(accuracy_rate[best_k_2[0]], 4))"
   ]
  },
  {
   "cell_type": "markdown",
   "metadata": {},
   "source": [
    "#### Part 5\n",
    "What did your model predict for the 100th,200th, and 300th test points?"
   ]
  },
  {
   "cell_type": "code",
   "execution_count": 32,
   "metadata": {},
   "outputs": [
    {
     "name": "stdout",
     "output_type": "stream",
     "text": [
      "Model Prediction of 100th Observation: 0\n",
      "Model Prediction of 200th Observation: 0\n",
      "Model Prediction of 300th Observation: 0\n"
     ]
    }
   ],
   "source": [
    "for i in (100, 200, 300):\n",
    "    print('Model Prediction of {}th Observation:'.format(i), knn_one_point(i-1, 75))"
   ]
  },
  {
   "cell_type": "code",
   "execution_count": null,
   "metadata": {},
   "outputs": [],
   "source": []
  }
 ],
 "metadata": {
  "kernelspec": {
   "display_name": "Python 3",
   "language": "python",
   "name": "python3"
  },
  "language_info": {
   "codemirror_mode": {
    "name": "ipython",
    "version": 3
   },
   "file_extension": ".py",
   "mimetype": "text/x-python",
   "name": "python",
   "nbconvert_exporter": "python",
   "pygments_lexer": "ipython3",
   "version": "3.7.3"
  }
 },
 "nbformat": 4,
 "nbformat_minor": 2
}
